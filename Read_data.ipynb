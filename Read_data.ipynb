{
 "cells": [
  {
   "cell_type": "markdown",
   "id": "e375a3a8",
   "metadata": {},
   "source": [
    "# Read the data VRE project"
   ]
  },
  {
   "cell_type": "code",
   "execution_count": null,
   "id": "c61faa70",
   "metadata": {},
   "outputs": [],
   "source": [
    "from pathlib import Path\n",
    "import matplotlib.pyplot as plt\n",
    "import pandas as pd\n",
    "import xarray as xr\n",
    "\n",
    "# Directories where you saved the data\n",
    "data_dir_energy = Path('data/energy_france.csv')\n",
    "data_dir_climate = Path('../../../data/projects/climate_france')\n",
    "                        \n",
    "# Template filenames\n",
    "filename_mask = 'mask_datagouv_french_regions_merra2_Nx_France.nc'\n",
    "filename_climate = 'merra2_area_selection_output_{}_merra2_2010-2019.nc'\n",
    "filename_energy = 'reseaux_energies_{}.csv'\n",
    "\n",
    "# Read and plot grid point-region mask\n",
    "filepath_mask = Path(data_dir_climate, filename_mask)\n",
    "ds_mask = xr.load_dataset(filepath_mask)\n",
    "da_mask = ds_mask['mask']\n",
    "plt.figure()\n",
    "plt.scatter(da_mask['lon'], da_mask['lat'], c=da_mask, cmap='Set1')\n",
    "\n",
    "# Read a climate variable and plot its mean over time\n",
    "variable_name = 'zonal_wind'\n",
    "filename = filename_climate.format(variable_name)\n",
    "filepath = Path(data_dir_climate, filename)\n",
    "da_climate = xr.load_dataset(filepath)[variable_name]\n",
    "plt.figure()\n",
    "plt.scatter(da_mask['lon'], da_mask['lat'], c=da_climate.mean('time'))\n",
    "\n",
    "# Compute regional mean of climate variable and plot time series\n",
    "da_climate_reg = da_climate.groupby(da_mask).mean().rename(mask='region')\n",
    "da_climate_reg['region'] = ds_mask['region'].values\n",
    "plt.figure()\n",
    "da_climate_reg.plot.line(x='time')\n",
    "\n",
    "# Read energy variable and plot time series\n",
    "variable_name = 'capacityfactor_wind-onshore'\n",
    "filename = filename_energy.format(variable_name)\n",
    "filepath = Path(data_dir_energy, filename)\n",
    "df_energy = pd.read_csv(filepath, index_col=0, header=0, parse_dates=True)\n",
    "plt.figure()\n",
    "df_energy.plot()\n"
   ]
  }
 ],
 "metadata": {
  "kernelspec": {
   "display_name": "Python 3 (ipykernel)",
   "language": "python",
   "name": "python3"
  },
  "language_info": {
   "codemirror_mode": {
    "name": "ipython",
    "version": 3
   },
   "file_extension": ".py",
   "mimetype": "text/x-python",
   "name": "python",
   "nbconvert_exporter": "python",
   "pygments_lexer": "ipython3",
   "version": "3.13.5"
  }
 },
 "nbformat": 4,
 "nbformat_minor": 5
}
